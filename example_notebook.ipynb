{
 "cells": [
  {
   "cell_type": "markdown",
   "metadata": {},
   "source": [
    "## Read in Text"
   ]
  },
  {
   "cell_type": "code",
   "execution_count": 1,
   "metadata": {},
   "outputs": [],
   "source": [
    "## Import\n",
    "\n",
    "import os\n"
   ]
  },
  {
   "cell_type": "code",
   "execution_count": 3,
   "metadata": {},
   "outputs": [
    {
     "name": "stdout",
     "output_type": "stream",
     "text": [
      "4 total files\n",
      "['notes_on_text_norway.txt', 'notes_on_times.txt', 'notes_on_text_muddle.txt', 'notes_on_text_export.txt']\n"
     ]
    }
   ],
   "source": [
    "## List Files\n",
    "\n",
    "filelist = os.listdir('docs/')\n",
    "print(f'{len(filelist)} total files')\n",
    "print(filelist)\n"
   ]
  },
  {
   "cell_type": "code",
   "execution_count": 4,
   "metadata": {},
   "outputs": [
    {
     "name": "stdout",
     "output_type": "stream",
     "text": [
      "The Food Tax Muddle.- -The position of food taxes in. or outside. or on the fringe of-Conservative policy be- comes more and more bewildering. A few weeks ago it was thought that the impasse between Lord Beaverbrook and Mr Baldwin had been solved through the adoption by the latter of a vigorous Empire policy and the relega- tion of the food tax question to a referendum. which was to follow the next General Election in the event of a Con- servative victory. In his speech at Nottingham last Friday Lord Beaverbrook summed up his agreement with Mr Baldwin by saying -We understood Mr Baldwin would plough a straight furrow through the General Election-o -through a referendum-and that he would not look back until he had given us our keystone-o tax on foreign foodstuffs.o Assuming that to be Mr Baldwin's position. and deeming that position satisfactory. Lord Beaverbrook decided that he could work inside the Con- servative Party and actually proceeded to return the money subscribed for his Empire Free Trade Party. In the current political jest of the day.  the monkey was caged.o Very soon. however. the monkey began to be restive in captivity. Last week he decided that separate funds for propagating Empire Free Trade were. after all. necessary. and appealed for the return of the repaid sub- scriptions. Now he has made a further bid for indepen- dence by addressing to the Press on Wednesday a letter which amounts to an accusation of betrayal against Mr Baldwin. His complaint arises out of a Conservative official leaflet headed-o This is Baldwin's Pledge to You.o in which Conservative policy is explained as follows-o  To go into conference with the Dominions in order to make a bargain which will enable us to sell more manufac- tured goods to them.o adding that if then the Dominions ask us -to help them by putting taxes on foreign food- stuffs and allowing theirs to come in free. the question will be put to the country by means of a referendum.o This. says Lord Beaverbrook. is  not in consonance  with his policy or-o with the arrangement under which we accepted the referendum.o Consequently. his lordship finds-o the present position extremely difficult.o This brings matters to a head. and perhaps we shall now get from Mr Baldwin an unequivocal statement as to whether or not food taxes are inside the policy of his Party. The country. as well as Lord Beaverbrook. has the right to expect something much more definite than anything that Mr Baldwin has yet said.\n",
      "\n"
     ]
    }
   ],
   "source": [
    "## Load File\n",
    "\n",
    "with open('docs/'+'notes_on_text_muddle.txt','r') as f:\n",
    "    raw_text = f.read()\n",
    "    \n",
    "print(raw_text)\n"
   ]
  },
  {
   "cell_type": "markdown",
   "metadata": {},
   "source": [
    "## Regex Corrections"
   ]
  },
  {
   "cell_type": "markdown",
   "metadata": {},
   "source": [
    "For very simple pattern replacements, you can just use basic string replacement commands (like `.replace()`) in Python.\n",
    "\n",
    "For more complex ones, you'll want to use the [`re` module](https://docs.python.org/3/library/re.html). A lot of times, I use [regex101.com](https://regex101.com/) to help me construct my regular expressions since it live highlights components in the text as you write your expression."
   ]
  },
  {
   "cell_type": "code",
   "execution_count": 5,
   "metadata": {},
   "outputs": [],
   "source": [
    "## Import\n",
    "\n",
    "import re\n"
   ]
  },
  {
   "cell_type": "markdown",
   "metadata": {},
   "source": [
    "First the \"The Food Tax Muddle\" example..."
   ]
  },
  {
   "cell_type": "code",
   "execution_count": 23,
   "metadata": {},
   "outputs": [
    {
     "name": "stdout",
     "output_type": "stream",
     "text": [
      "The Food Tax Muddle.- -The position of food taxes in. or outside. or on the fringe of-Conservative policy be- comes more and more bewildering. A few weeks ago it was thought that the impasse between Lord Beaverbrook and Mr Baldwin had been solved through the adoption by the latter of a vigorous Empire policy and the relega- tion of the food tax question to a referendum. which was to follow the next General Election in the event of a Con- servative victory. In his speech at Nottingham last Friday Lord Beaverbrook summed up his agreement with Mr Baldwin by saying -We understood Mr Baldwin would plough a straight furrow through the General Election-o -through a referendum-and that he would not look back until he had given us our keystone-o tax on foreign foodstuffs.o Assuming that to be Mr Baldwin's position. and deeming that position satisfactory. Lord Beaverbrook decided that he could work inside the Con- servative Party and actually proceeded to return the money subscribed for his Empire Free Trade Party. In the current political jest of the day.  the monkey was caged.o Very soon. however. the monkey began to be restive in captivity. Last week he decided that separate funds for propagating Empire Free Trade were. after all. necessary. and appealed for the return of the repaid sub- scriptions. Now he has made a further bid for indepen- dence by addressing to the Press on Wednesday a letter which amounts to an accusation of betrayal against Mr Baldwin. His complaint arises out of a Conservative official leaflet headed-o This is Baldwin's Pledge to You.o in which Conservative policy is explained as follows-o  To go into conference with the Dominions in order to make a bargain which will enable us to sell more manufac- tured goods to them.o adding that if then the Dominions ask us -to help them by putting taxes on foreign food- stuffs and allowing theirs to come in free. the question will be put to the country by means of a referendum.o This. says Lord Beaverbrook. is  not in consonance  with his policy or-o with the arrangement under which we accepted the referendum.o Consequently. his lordship finds-o the present position extremely difficult.o This brings matters to a head. and perhaps we shall now get from Mr Baldwin an unequivocal statement as to whether or not food taxes are inside the policy of his Party. The country. as well as Lord Beaverbrook. has the right to expect something much more definite than anything that Mr Baldwin has yet said.\n",
      "\n"
     ]
    }
   ],
   "source": [
    "## Load File\n",
    "\n",
    "with open('docs/'+'notes_on_text_muddle.txt','r') as f:\n",
    "    raw_text = f.read()\n",
    "    \n",
    "print(raw_text)\n"
   ]
  },
  {
   "cell_type": "code",
   "execution_count": 10,
   "metadata": {},
   "outputs": [
    {
     "name": "stdout",
     "output_type": "stream",
     "text": [
      "The Food Tax Muddle.-The position of food taxes in. or outside. or on the fringe of-Conservative policy becomes more and more bewildering. A few weeks ago it was thought that the impasse between Lord Beaverbrook and Mr Baldwin had been solved through the adoption by the latter of a vigorous Empire policy and the relegation of the food tax question to a referendum. which was to follow the next General Election in the event of a Conservative victory. In his speech at Nottingham last Friday Lord Beaverbrook summed up his agreement with Mr Baldwin by saying -We understood Mr Baldwin would plough a straight furrow through the General Election-o -through a referendum-and that he would not look back until he had given us our keystone-o tax on foreign foodstuffs.o Assuming that to be Mr Baldwin's position. and deeming that position satisfactory. Lord Beaverbrook decided that he could work inside the Conservative Party and actually proceeded to return the money subscribed for his Empire Free Trade Party. In the current political jest of the day.  the monkey was caged.o Very soon. however. the monkey began to be restive in captivity. Last week he decided that separate funds for propagating Empire Free Trade were. after all. necessary. and appealed for the return of the repaid subscriptions. Now he has made a further bid for independence by addressing to the Press on Wednesday a letter which amounts to an accusation of betrayal against Mr Baldwin. His complaint arises out of a Conservative official leaflet headed-o This is Baldwin's Pledge to You.o in which Conservative policy is explained as follows-o  To go into conference with the Dominions in order to make a bargain which will enable us to sell more manufactured goods to them.o adding that if then the Dominions ask us -to help them by putting taxes on foreign foodstuffs and allowing theirs to come in free. the question will be put to the country by means of a referendum.o This. says Lord Beaverbrook. is  not in consonance  with his policy or-o with the arrangement under which we accepted the referendum.o Consequently. his lordship finds-o the present position extremely difficult.o This brings matters to a head. and perhaps we shall now get from Mr Baldwin an unequivocal statement as to whether or not food taxes are inside the policy of his Party. The country. as well as Lord Beaverbrook. has the right to expect something much more definite than anything that Mr Baldwin has yet said.\n",
      "\n"
     ]
    }
   ],
   "source": [
    "## Clean up Dashes\n",
    "\n",
    "processed_text = raw_text.replace('- ','') # replace \"- \" with nothing\n",
    "#processed_text = re.sub('- ', '', raw_text) # re module version  \n",
    "\n",
    "print(processed_text)\n"
   ]
  },
  {
   "cell_type": "code",
   "execution_count": 17,
   "metadata": {},
   "outputs": [
    {
     "name": "stdout",
     "output_type": "stream",
     "text": [
      "The Food Tax Muddle.-The position of food taxes in. or outside. or on the fringe of-Conservative policy becomes more and more bewildering. A few weeks ago it was thought that the impasse between Lord Beaverbrook and Mr Baldwin had been solved through the adoption by the latter of a vigorous Empire policy and the relegation of the food tax question to a referendum. which was to follow the next General Election in the event of a Conservative victory. In his speech at Nottingham last Friday Lord Beaverbrook summed up his agreement with Mr Baldwin by saying -We understood Mr Baldwin would plough a straight furrow through the General Election  -through a referendum-and that he would not look back until he had given us our keystone  tax on foreign foodstuffs  Assuming that to be Mr Baldwin's position. and deeming that position satisfactory. Lord Beaverbrook decided that he could work inside the Conservative Party and actually proceeded to return the money subscribed for his Empire Free Trade Party. In the current political jest of the day.  the monkey was caged  Very soon. however. the monkey began to be restive in captivity. Last week he decided that separate funds for propagating Empire Free Trade were. after all. necessary. and appealed for the return of the repaid subscriptions. Now he has made a further bid for independence by addressing to the Press on Wednesday a letter which amounts to an accusation of betrayal against Mr Baldwin. His complaint arises out of a Conservative official leaflet headed  This is Baldwin's Pledge to You  in which Conservative policy is explained as follows   To go into conference with the Dominions in order to make a bargain which will enable us to sell more manufactured goods to them  adding that if then the Dominions ask us -to help them by putting taxes on foreign foodstuffs and allowing theirs to come in free. the question will be put to the country by means of a referendum  This. says Lord Beaverbrook. is  not in consonance  with his policy or  with the arrangement under which we accepted the referendum  Consequently. his lordship finds  the present position extremely difficult  This brings matters to a head. and perhaps we shall now get from Mr Baldwin an unequivocal statement as to whether or not food taxes are inside the policy of his Party. The country. as well as Lord Beaverbrook. has the right to expect something much more definite than anything that Mr Baldwin has yet said.\n",
      "\n"
     ]
    }
   ],
   "source": [
    "## Clean up \"-o\" and \".o\"\n",
    "\n",
    "processed_text_2 = processed_text.replace('-o',' ').replace('.o',' ') # replace \"-o\" and \".o\" with single space\n",
    "#processed_text_2 = re.sub('(-|\\.)o', ' ', processed_text) # re module version\n",
    "\n",
    "print(processed_text_2)\n"
   ]
  },
  {
   "cell_type": "markdown",
   "metadata": {},
   "source": [
    "If you're not worried about sentence tokenization or the use of other special characters, you might just choose to get rid of all special characters."
   ]
  },
  {
   "cell_type": "code",
   "execution_count": 22,
   "metadata": {},
   "outputs": [
    {
     "name": "stdout",
     "output_type": "stream",
     "text": [
      "The Food Tax Muddle The position of food taxes in or outside or on the fringe of Conservative policy becomes more and more bewildering A few weeks ago it was thought that the impasse between Lord Beaverbrook and Mr Baldwin had been solved through the adoption by the latter of a vigorous Empire policy and the relegation of the food tax question to a referendum which was to follow the next General Election in the event of a Conservative victory In his speech at Nottingham last Friday Lord Beaverbrook summed up his agreement with Mr Baldwin by saying We understood Mr Baldwin would plough a straight furrow through the General Election through a referendum and that he would not look back until he had given us our keystone tax on foreign foodstuffs Assuming that to be Mr Baldwin s position and deeming that position satisfactory Lord Beaverbrook decided that he could work inside the Conservative Party and actually proceeded to return the money subscribed for his Empire Free Trade Party In the current political jest of the day the monkey was caged Very soon however the monkey began to be restive in captivity Last week he decided that separate funds for propagating Empire Free Trade were after all necessary and appealed for the return of the repaid subscriptions Now he has made a further bid for independence by addressing to the Press on Wednesday a letter which amounts to an accusation of betrayal against Mr Baldwin His complaint arises out of a Conservative official leaflet headed This is Baldwin s Pledge to You in which Conservative policy is explained as follows To go into conference with the Dominions in order to make a bargain which will enable us to sell more manufactured goods to them adding that if then the Dominions ask us to help them by putting taxes on foreign foodstuffs and allowing theirs to come in free the question will be put to the country by means of a referendum This says Lord Beaverbrook is not in consonance with his policy or with the arrangement under which we accepted the referendum Consequently his lordship finds the present position extremely difficult This brings matters to a head and perhaps we shall now get from Mr Baldwin an unequivocal statement as to whether or not food taxes are inside the policy of his Party The country as well as Lord Beaverbrook has the right to expect something much more definite than anything that Mr Baldwin has yet said \n"
     ]
    }
   ],
   "source": [
    "## Get Rid of Special Characters\n",
    "\n",
    "processed_text_3 = re.sub('[^A-Za-z0-9]+', ' ', processed_text_2) # replace all non-alphanumeric characters with single space\n",
    "\n",
    "print(processed_text_3)\n"
   ]
  },
  {
   "cell_type": "code",
   "execution_count": 26,
   "metadata": {},
   "outputs": [],
   "source": [
    "## Make Basic Function\n",
    "\n",
    "def basic_cleanup(text):\n",
    "    processed_text = re.sub('- ', '', text) # replace \"- \" with nothing\n",
    "    processed_text = re.sub('(-|\\.)o', ' ', processed_text) # replace all non-alphanumeric characters with single space\n",
    "    processed_text = re.sub('[^A-Za-z0-9]+', ' ', processed_text) # replace all non-alphanumeric characters with single space\n",
    "    \n",
    "    return processed_text\n"
   ]
  },
  {
   "cell_type": "markdown",
   "metadata": {},
   "source": [
    "Now trying the \"Norway\" example..."
   ]
  },
  {
   "cell_type": "code",
   "execution_count": 73,
   "metadata": {},
   "outputs": [
    {
     "name": "stdout",
     "output_type": "stream",
     "text": [
      "NORWAY. Discount Rate x2014 Bond Market x2014 Stock Exchange-ox2014 Foreign Trade. (FROM OUR cokbespondent.) Trondhjbm. March 29. The present Norwegian Bank rate of 400x00A3 per cent. \n",
      "\n"
     ]
    }
   ],
   "source": [
    "## Load File\n",
    "\n",
    "with open('docs/'+'notes_on_text_norway.txt','r') as f:\n",
    "    raw_text = f.read()\n",
    "    \n",
    "print(raw_text)\n"
   ]
  },
  {
   "cell_type": "code",
   "execution_count": 74,
   "metadata": {},
   "outputs": [
    {
     "name": "stdout",
     "output_type": "stream",
     "text": [
      "NORWAY Discount Rate Bond Market Stock Exchange Foreign Trade FROM OUR cokbespondent Trondhjbm March The present Norwegian Bank rate of per cent\n"
     ]
    }
   ],
   "source": [
    "## Apply Basic Cleanup\n",
    "\n",
    "processed_text = basic_cleanup(raw_text)\n",
    "\n",
    "print(processed_text)\n"
   ]
  },
  {
   "cell_type": "markdown",
   "metadata": {},
   "source": [
    "So the \"x2014\" and \"00x00A3\" stuff that you see here are most likely unicode remnants from the OCR software. Unicode is usually used to represent different special characters/symbols in text and shows up a lot in text cleanup work. In this case, \"x2014\" likely represents a [long dash](https://www.fileformat.info/info/unicode/char/2014/index.htm) while \"00x00A3\" is probably an attempt to represent the [currency pound sign](https://www.fileformat.info/info/unicode/char/00a3/index.htm), how the OCR software saw the \"1/2\" fraction.\n",
    "\n",
    "There are probably Python packages out there that try to remove these representations automatically, but if you see common ones (like \"x2014\"), you can try to remove them one-by-one. Or you can just eliminate all digits and single-character entities. "
   ]
  },
  {
   "cell_type": "code",
   "execution_count": 75,
   "metadata": {},
   "outputs": [
    {
     "name": "stdout",
     "output_type": "stream",
     "text": [
      "NORWAY Discount Rate Bond Market Stock Exchange Foreign Trade FROM OUR cokbespondent Trondhjbm March The present Norwegian Bank rate of per cent\n"
     ]
    }
   ],
   "source": [
    "## Remove Unicode One-by-One\n",
    "\n",
    "processed_text_2 = processed_text.replace('x2014','').replace('00x00A3','') # not recommended unless a unicode representation is very frequent\n",
    "\n",
    "print(processed_text_2)\n"
   ]
  },
  {
   "cell_type": "code",
   "execution_count": 77,
   "metadata": {},
   "outputs": [
    {
     "name": "stdout",
     "output_type": "stream",
     "text": [
      "NORWAY Discount Rate Bond Market Stock Exchange Foreign Trade FROM OUR cokbespondent Trondhjbm March The present Norwegian Bank rate of per cent\n"
     ]
    }
   ],
   "source": [
    "## Remove Digits and Single Character Entities\n",
    "\n",
    "processed_text_2 = re.sub('[^A-Za-z]+', ' ', processed_text) # only retain alphabet characters\n",
    "#processed_text_3 = re.sub('\\s[A-Za-z]{1}\\s', ' ', processed_text_2) # replace any instance of \"space-singlecharacter-space\" with a single space (\\s indicates space)\n",
    "processed_text_3 = ' '.join([x for x in processed_text_2.split(' ') if len(x)>1]) # another approach: split based on space into a list, retain only entities greater than 1 character, rejoin into string\n",
    "\n",
    "print(processed_text_3)\n"
   ]
  },
  {
   "cell_type": "code",
   "execution_count": 48,
   "metadata": {},
   "outputs": [],
   "source": [
    "## Edit Basic Function\n",
    "\n",
    "def basic_cleanup(text):\n",
    "    processed_text = re.sub('- ', '', text) # replace \"- \" with nothing\n",
    "    processed_text = re.sub('(-|\\.)o', ' ', processed_text) # replace all non-alphanumeric characters with single space\n",
    "    processed_text = re.sub('[^A-Za-z0-9]+', ' ', processed_text) # replace all non-alphanumeric characters with single space\n",
    "    processed_text = re.sub('[^A-Za-z]+', ' ', processed_text) # only retain alphabet characters\n",
    "    processed_text = ' '.join([x for x in processed_text.split(' ') if len(x)>1]) # only retain entities composed of greater than a single character\n",
    "    \n",
    "    return processed_text\n"
   ]
  },
  {
   "cell_type": "markdown",
   "metadata": {},
   "source": [
    "Now trying the \"Export Trade\" example..."
   ]
  },
  {
   "cell_type": "code",
   "execution_count": 49,
   "metadata": {},
   "outputs": [
    {
     "name": "stdout",
     "output_type": "stream",
     "text": [
      "Export Tradeoox20140a New Committee.- -Mr Gillett. Secre- tary of the Department of Overseas Trade. has announced the appointment of a  special organisation -which is  \n",
      "\n"
     ]
    }
   ],
   "source": [
    "## Load File\n",
    "\n",
    "with open('docs/'+'notes_on_text_export.txt','r') as f:\n",
    "    raw_text = f.read()\n",
    "    \n",
    "print(raw_text)\n"
   ]
  },
  {
   "cell_type": "code",
   "execution_count": 50,
   "metadata": {},
   "outputs": [
    {
     "name": "stdout",
     "output_type": "stream",
     "text": [
      "Export Tradeoox New Committee Mr Gillett Secretary of the Department of Overseas Trade has announced the appointment of special organisation which is\n"
     ]
    }
   ],
   "source": [
    "## Apply Basic Cleanup\n",
    "\n",
    "processed_text = basic_cleanup(raw_text)\n",
    "\n",
    "print(processed_text)\n"
   ]
  },
  {
   "cell_type": "markdown",
   "metadata": {},
   "source": [
    "## Lexical Corrections"
   ]
  },
  {
   "cell_type": "markdown",
   "metadata": {},
   "source": [
    "For cases where there are spelling errors, you can try a lexical approach to make corrections. But note that there are situations where this may not work including:\n",
    "\n",
    "    - Mistranscriptions that are still real words in a dictionary\n",
    "    - Names of people, places, etc.\n",
    "    - Extremely mangled words where a suggested replacement is just as bad\n",
    "    - Old-timey vocabulary that may not be included in the dictionary you are using\n",
    "    - Other specialty language that may not appear in the dictionary\n",
    "    "
   ]
  },
  {
   "cell_type": "markdown",
   "metadata": {},
   "source": [
    "I find the [PyEnchant](https://pypi.org/project/pyenchant/) package to be pretty decent, though there are many other packages out there that may be worth exploring."
   ]
  },
  {
   "cell_type": "code",
   "execution_count": 58,
   "metadata": {},
   "outputs": [],
   "source": [
    "## Import\n",
    "\n",
    "from enchant.checker import SpellChecker\n",
    "\n",
    "d = SpellChecker(\"en_UK\") # you can select which dictionary to use, here I've chosen the UK version of English\n"
   ]
  },
  {
   "cell_type": "code",
   "execution_count": 54,
   "metadata": {},
   "outputs": [
    {
     "name": "stdout",
     "output_type": "stream",
     "text": [
      "Export Tradeoox New Committee Mr Gillett Secretary of the Department of Overseas Trade has announced the appointment of special organisation which is\n"
     ]
    }
   ],
   "source": [
    "## Load File and Apply Basic Cleanup\n",
    "\n",
    "with open('docs/'+'notes_on_text_export.txt','r') as f:\n",
    "    raw_text = f.read()\n",
    "    \n",
    "processed_text = basic_cleanup(raw_text)\n",
    "\n",
    "print(processed_text)\n"
   ]
  },
  {
   "cell_type": "code",
   "execution_count": 59,
   "metadata": {},
   "outputs": [
    {
     "name": "stdout",
     "output_type": "stream",
     "text": [
      "FLAGGED WORDS\n",
      "\n",
      "Tradeoox\n",
      "   suggested: Trades, Trade's, Traders, Trader's, Tirades, Detox, Tirade's, Paradox, Traduce, Tragedies, Treadles, Tractors, Traducer, Treads, Triads, Traduces, Traitors, Toreadors, Tradings, Tarots, Treadle's, Tragedy's, Tread's, Triad's, Trudges, Triage's, Trudge's, Toreador's, Tracts, Tractor's, Trudeau's, Traitor's, Trading's, Tarot's, Tract's\n",
      "\n",
      "Gillett\n",
      "   suggested: Gillette, Gullet, Fillet, Gilt, Gilder, Gulled, Gilbert, Gullets, Giblet, Gimlet, Millet, Billet, Glitter, Gilead, Galled, Gelled, Killed, Guilty, Glider, Kilter, Gillie, Glide, Guillemot, Gullet's, Gill, Grilled, Gillette's, Gild, Glut, Gilts, Skillet, Gilt's\n",
      "\n"
     ]
    }
   ],
   "source": [
    "## See PyEnchant Suggestions\n",
    "\n",
    "words = processed_text.split() # split the processed text into individual words (.split() splits by space)\n",
    "\n",
    "incorrectwords = [w for w in words if not d.check(w)] # input each word into the spellchecker one-by-one\n",
    "\n",
    "print('FLAGGED WORDS\\n')\n",
    "suggestedwords = {}\n",
    "for w in incorrectwords: # iterate through each word flagged by the spellchecker\n",
    "    suggestedwords[w] = d.suggest(w) # store suggested words in a dictionary for later access\n",
    "    print(w)\n",
    "    print('   suggested: ' + ', '.join(suggestedwords[w])+'\\n')\n"
   ]
  },
  {
   "cell_type": "markdown",
   "metadata": {},
   "source": [
    "A few observations:\n",
    "\n",
    "    - Because I chose the UK version of the English dictionary, \"organisation\" was not flagged. It is flagged if you choose \"en_US\".\n",
    "    - The spellchecker struggles a bit with \"Tradeoox\", although \"Trades\" is probably a fine replacement.\n",
    "    - \"Gillett\" is flagged even though it's just somebody's name."
   ]
  },
  {
   "cell_type": "markdown",
   "metadata": {},
   "source": [
    "Now trying excerpts from \"Notes on Times.docx\"..."
   ]
  },
  {
   "cell_type": "code",
   "execution_count": 66,
   "metadata": {},
   "outputs": [
    {
     "name": "stdout",
     "output_type": "stream",
     "text": [
      "In concluding the retrospect of the year there aro two facts stilLtu refer to the sums of moner placed by Government and by private individuals at the disposal of societies for furthering scientifio research and which we have already alluded to in these columns and the Loan Collection of Scientiific Instruments which closed on Saturday and of which we have made many records\n"
     ]
    }
   ],
   "source": [
    "## Choose Excerpt and Apply Basic Cleanup\n",
    "\n",
    "raw_text = 'In concluding the retrospect of the year there aro two facts stilLtu refer to-the sums of moner placed by Government and by private individuals at the disposal of societies for furthering scientifio research, and which we have already alluded to in these columns, and the Loan Collection of Scientiific In- struments, which closed on Saturday, and of which we have made many records.'\n",
    "    \n",
    "processed_text = basic_cleanup(raw_text)\n",
    "\n",
    "print(processed_text)\n"
   ]
  },
  {
   "cell_type": "code",
   "execution_count": 67,
   "metadata": {},
   "outputs": [
    {
     "name": "stdout",
     "output_type": "stream",
     "text": [
      "FLAGGED WORDS\n",
      "\n",
      "aro\n",
      "   suggested: Afro, Aron, Argo, Arno, SRO, arvo, AR, Ar, Ara, are, arr, Karo, faro, taro, APO, ARC, Ark, Art, PRO, ado, ago, arc, ark, arm, art, avo, bro, fro, pro, Ar's\n",
      "\n",
      "stilLtu\n",
      "   suggested: stilt, stilled, still, stiletto, stilts, stills, stiller, still's, stalled, silty, stillest, silt, tilt, Stilton, stilt's, stilted, stall, stile\n",
      "\n",
      "moner\n",
      "   suggested: miner, moaner, money, Mainer, mine, Monera, Monet, monger, Mon, mourner, Mooney, manner, meaner, minor, Mona, mane, mono, boner, goner, honer, loner, moper, mover, mower, toner, manor\n",
      "\n",
      "scientifio\n",
      "   suggested: scientific, centavo, scenting, scintilla, scent, scented, sendoff, scents, certify, centime, scent's\n",
      "\n",
      "Scientiific\n",
      "   suggested: Scientific, Scientifically, Scientology, Centrifuge, Saintlike\n",
      "\n"
     ]
    }
   ],
   "source": [
    "## See PyEnchant Suggestions\n",
    "\n",
    "words = processed_text.split() # split the processed text into individual words (.split() splits by space)\n",
    "\n",
    "incorrectwords = [w for w in words if not d.check(w)] # input each word into the spellchecker one-by-one\n",
    "\n",
    "print('FLAGGED WORDS\\n')\n",
    "suggestedwords = {}\n",
    "for w in incorrectwords: # iterate through each word flagged by the spellchecker\n",
    "    suggestedwords[w] = d.suggest(w) # store suggested words in a dictionary for later access\n",
    "    print(w)\n",
    "    print('   suggested: ' + ', '.join(suggestedwords[w])+'\\n')\n"
   ]
  },
  {
   "cell_type": "code",
   "execution_count": 70,
   "metadata": {},
   "outputs": [
    {
     "name": "stdout",
     "output_type": "stream",
     "text": [
      "At the Greenwich Royal Observatory important work has been done by Mr Christie on the motion of stars along the line of sight by means of observations on the shift of the lines of their spectra Mr Huggins some time ago applied this method to calculating the motion of the stars in this line of sight direction for which no other method was known Doubt however was thrown on the value of the method especially by Father Secchi Mr Christie work confirms MIr Huggins results hut it will probably be long before apparatus can be arranged so that the rate at which distant stars are approching to or receding from the earth can be stated with any accuracy The work of the Astronomer Royal in connexion with his new lunar theory is progressing satisfactorily and when the gigantic work is accomplished it will be possible for astronomers to determine the moon place wvith greater accuracy\n"
     ]
    }
   ],
   "source": [
    "## Choose Excerpt and Apply Basic Cleanup\n",
    "\n",
    "raw_text = 'At the Greenwich Royal Observatory important work has been done by Mr. Christie on the motion of stars along the line of sight by means of observations on the shift of the lines of their spectra. Mr. Huggins, some time ago, ap- plied this method to calculating the motion of the stars in this line of sight direction, for which no other method was known. Doubt, however, was thrown on the value of the method, especially by Father Secchi. Mr. Christie\\'s work confirms MIr. Huggins\\' results, hut it will probably be long before apparatus can be arranged so that the rate at which distant stars are approching to or receding from the earth can be stated with any accuracy. The work of the Astronomer Royal in connexion with his new lunar theory is progressing satisfacto- rily, and when the gigantic work is accomplished it will be possible for astronomers to determine the moon\\'s place wvith greater accuracy.'\n",
    "processed_text = basic_cleanup(raw_text)\n",
    "\n",
    "print(processed_text)\n"
   ]
  },
  {
   "cell_type": "code",
   "execution_count": 71,
   "metadata": {},
   "outputs": [
    {
     "name": "stdout",
     "output_type": "stream",
     "text": [
      "FLAGGED WORDS\n",
      "\n",
      "Secchi\n",
      "   suggested: Sec chi, Sec-chi, Sketch, Sketchy, Scotch, Scorch, SEC, Sec, Sch, Sketchier, Sacco, Search, Sketcher, Speech, Scotia, Such, SCSI, Secs, Sect, Saatchi, Sancho, Succubi, Ketch, Sushi, SEC's, Sec's, Gnocchi, Sergei, Succor, Schick, Section, Sector, Secure, Soccer, SC, Sc, Scorcher, Czechia, Cache, Sketchily, Sketching, Czech, Sketch's, SAC, Soc, Sac, Scotchs, Screech, Seq, Sic, Squelch, Sacco's, Scotch's, Scorch's\n",
      "\n",
      "MIr\n",
      "   suggested: Mir, Meir, Muir, MRI, MI, Mi, MIRV, MIT, Mira, Miro, Mire, Miry, Ymir, Mr, Ir, MIA, Mar, Mia, Emir, MiG, Min, Mic, Mid, Mil, Dir, Sir, Air, Cir, Fir, Mgr, Mfr, Mix, Mir's, MI's, Mi's\n",
      "\n",
      "approching\n",
      "   suggested: approaching, approving, apprising, reproaching, approach, appraising, preaching, appearing, perishing, appareling, approach's, approached, approaches, enriching, appreciating, apparelling, uprooting\n",
      "\n",
      "connexion\n",
      "   suggested: connection, congestion, connecting, conjoin, annexing, concern, consign, concussion, conjoins, coonskin\n",
      "\n",
      "wvith\n",
      "   suggested: with, Faith, faith, withe, firth, wraith, writhe, wroth, kith, pith, Keith, Wyeth, saith, worth, wrath, forth\n",
      "\n"
     ]
    }
   ],
   "source": [
    "## See PyEnchant Suggestions\n",
    "\n",
    "words = processed_text.split() # split the processed text into individual words (.split() splits by space)\n",
    "\n",
    "incorrectwords = [w for w in words if not d.check(w)] # input each word into the spellchecker one-by-one\n",
    "\n",
    "print('FLAGGED WORDS\\n')\n",
    "suggestedwords = {}\n",
    "for w in incorrectwords: # iterate through each word flagged by the spellchecker\n",
    "    suggestedwords[w] = d.suggest(w) # store suggested words in a dictionary for later access\n",
    "    print(w)\n",
    "    print('   suggested: ' + ', '.join(suggestedwords[w])+'\\n')\n"
   ]
  },
  {
   "cell_type": "code",
   "execution_count": 79,
   "metadata": {},
   "outputs": [
    {
     "name": "stdout",
     "output_type": "stream",
     "text": [
      "the proof of the dissociation of one of the chym cal elements he has at any rate pointed out the way in whioh this may be ultimately accomplished Be has found that by varying the battery power by which spark is obtained between calcium poles fundamental teration occurs in the spectrum and he further finds that between the highest and lowest powers used by him there is stage at which the condition of calcium in the sun atmosphere is exactly represented\n"
     ]
    }
   ],
   "source": [
    "## Choose Excerpt and Apply Basic Cleanup\n",
    "\n",
    "raw_text = 'the proof of the dissociation of one of the chym.cal elements, he has at any rate pointed out the way in whioh this may be ultimately accomplished. Be has found that by varying the battery power by which a spark is obtained between calcium poles a fundamental a!teration occurs in the spectrum, and he further finds that between the highest and lowest powers used by him there is a stage at which the condition of calcium in the sun\\'s atmosphere is exactly represented.'\n",
    "processed_text = basic_cleanup(raw_text)\n",
    "\n",
    "print(processed_text)\n"
   ]
  },
  {
   "cell_type": "code",
   "execution_count": 80,
   "metadata": {},
   "outputs": [
    {
     "name": "stdout",
     "output_type": "stream",
     "text": [
      "FLAGGED WORDS\n",
      "\n",
      "chym\n",
      "   suggested: chum, chyme, chm, chem\n",
      "\n",
      "whioh\n",
      "   suggested: WHO, who, whir, whoa, which, weigh, whoosh, Wii, woo, Whig, whip, WI, WWII, whoop, WWI, Wei, why, woe, wow, whim, whit, whiz, whom, whop, wish, with, high, weir, whee, whew, whey, White, whiff, while, whine, whiny, whirl, whirr, whirs, white, whizz, WHO's, who'd, who's, whir's\n",
      "\n",
      "teration\n",
      "   suggested: iteration, aeration, duration, traction, ration, toleration, Creation, creation, serration, oration, gyration, derision\n",
      "\n"
     ]
    }
   ],
   "source": [
    "## See PyEnchant Suggestions\n",
    "\n",
    "words = processed_text.split() # split the processed text into individual words (.split() splits by space)\n",
    "\n",
    "incorrectwords = [w for w in words if not d.check(w)] # input each word into the spellchecker one-by-one\n",
    "\n",
    "print('FLAGGED WORDS\\n')\n",
    "suggestedwords = {}\n",
    "for w in incorrectwords: # iterate through each word flagged by the spellchecker\n",
    "    suggestedwords[w] = d.suggest(w) # store suggested words in a dictionary for later access\n",
    "    print(w)\n",
    "    print('   suggested: ' + ', '.join(suggestedwords[w])+'\\n')\n"
   ]
  }
 ],
 "metadata": {
  "kernelspec": {
   "display_name": "Python 3",
   "language": "python",
   "name": "python3"
  },
  "language_info": {
   "codemirror_mode": {
    "name": "ipython",
    "version": 3
   },
   "file_extension": ".py",
   "mimetype": "text/x-python",
   "name": "python",
   "nbconvert_exporter": "python",
   "pygments_lexer": "ipython3",
   "version": "3.6.9"
  }
 },
 "nbformat": 4,
 "nbformat_minor": 4
}
