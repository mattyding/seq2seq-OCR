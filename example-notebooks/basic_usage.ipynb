{
 "cells": [
  {
   "cell_type": "markdown",
   "source": [
    "## Basic Usage\n",
    "\n",
    "This file demonstrates how to use the seq2seq model to process noisy text.\n",
    "\n",
    "The example used in this notebook is a truncated article from the 11/1/1848 issue of the London Times. Let's first print it out to see what we're working with."
   ],
   "metadata": {}
  },
  {
   "cell_type": "code",
   "execution_count": 1,
   "source": [
    "with open(\"sample-files/floods.txt\", 'r') as f:\n",
    "    sample_text = f.read()\n",
    "\n",
    "sample_text"
   ],
   "outputs": [
    {
     "output_type": "execute_result",
     "data": {
      "text/plain": [
       "\"T Er LooDs AND THE RAILwAYS--The flbods that dwing the lut fortnight have been so unprecedented,particularly in the eastern and north-eastem districts, have' put toaseverer test than usual the strength and solidity of the ralways The ordinary, roads Iave been rendered im- asmbleOn the branch lfnes of the Eastern Counties, from yto Peterboroughandbeyond, tho e arable andmeadoweands are two and thro3 feet- un4erfor six and seven miles around, o that viewed from a train in translt, the cointry presents nothing but a vast aseet of vvater, from ilhich- neither the canals nor the rivers can be distingished \""
      ]
     },
     "metadata": {},
     "execution_count": 1
    }
   ],
   "metadata": {}
  },
  {
   "cell_type": "markdown",
   "source": [
    "This text is very noisy and it's difficult to piece together exactly what the article's saying. We can begin by importing the model from the seq2seqocr.py file and cleaning up our text with the 'preprocess' method"
   ],
   "metadata": {}
  },
  {
   "cell_type": "code",
   "execution_count": 2,
   "source": [
    "# these two lines to help with locating the file from this notebook\n",
    "import sys\n",
    "sys.path.append('../')\n",
    "\n",
    "from seq2seqocr import Seq2SeqOCR\n",
    "\n",
    "# initalize the model. By default, it assumes the model is saved at MODEL_PATH in settings.py\n",
    "model = Seq2SeqOCR()"
   ],
   "outputs": [
    {
     "output_type": "stream",
     "name": "stdout",
     "text": [
      "WARNING:tensorflow:SavedModel saved prior to TF 2.5 detected when loading Keras model. Please ensure that you are saving the model with model.save() or tf.keras.models.save_model(), *NOT* tf.saved_model.save(). To confirm, there should be a file named \"keras_metadata.pb\" in the SavedModel directory.\n"
     ]
    },
    {
     "output_type": "stream",
     "name": "stderr",
     "text": [
      "2021-09-05 17:48:48.784915: I tensorflow/core/platform/cpu_feature_guard.cc:142] This TensorFlow binary is optimized with oneAPI Deep Neural Network Library (oneDNN) to use the following CPU instructions in performance-critical operations:  AVX2 FMA\n",
      "To enable them in other operations, rebuild TensorFlow with the appropriate compiler flags.\n"
     ]
    }
   ],
   "metadata": {}
  },
  {
   "cell_type": "code",
   "execution_count": 3,
   "source": [
    "preprocessed = model.preprocess(sample_text)\n",
    "\n",
    "preprocessed"
   ],
   "outputs": [
    {
     "output_type": "execute_result",
     "data": {
      "text/plain": [
       "'[CLS]t [CLS]er [CLS]loods and the [CLS]railwaysthe [CLS]flbods that [CLS]dwing the [CLS]lut fortnight have been so unprecedented particularly in the eastern and [CLS]northeastem districts have put [CLS]toaseverer test than usual the strength and solidity of the [CLS]ralways the ordinary roads [CLS]iave been rend ered [CLS]imasmbleon the branch [CLS]lfnes of the eastern counties from [CLS]yto peter borough and beyond thoe arable [CLS]andmeadoweands are two and thro [CLS]feetunerfor six and seven miles around [CLS]o that viewed from a train in [CLS]translt the [CLS]cointry presents nothing but a vast [CLS]aseet of [CLS]vvater from [CLS]ilhichneither the [CLS]canals nor the rivers can be [CLS]distingished'"
      ]
     },
     "metadata": {},
     "execution_count": 3
    }
   ],
   "metadata": {}
  },
  {
   "cell_type": "markdown",
   "source": [
    "For each word in our text, 'preprocess' goes through several rounds of checks to clean up spacing issues. If it cannot recognize the word at the end of these checks, it tags the word with a classification token ('CLS'). \n",
    "\n",
    "The intent of this preprocessing stage is to clean up the text for our model, as well as correct any obvious issues. The classification tokens designate which words we should run the model on. We can do that with the 'process_text' method."
   ],
   "metadata": {}
  },
  {
   "cell_type": "code",
   "execution_count": 4,
   "source": [
    "infer_text = model.process_text(preprocessed)\n",
    "\n",
    "infer_text"
   ],
   "outputs": [
    {
     "output_type": "stream",
     "name": "stderr",
     "text": [
      "2021-09-05 17:48:51.982006: I tensorflow/compiler/mlir/mlir_graph_optimization_pass.cc:176] None of the MLIR Optimization Passes are enabled (registered 2)\n"
     ]
    },
    {
     "output_type": "stream",
     "name": "stdout",
     "text": [
      "t teal False\n",
      "er eare False\n",
      "loods boods False\n",
      "railwaysthe railwawarvie False\n",
      "flbods sthoof False\n",
      "dwing dwing False\n",
      "lut lant False\n",
      "northeastem northeaster False\n",
      "toaseverer twesewerer False\n",
      "ralways ralwwfs False\n",
      "iave have False\n",
      "imasmbleon immashifine False\n",
      "lfnes isness False\n",
      "yto yeto False\n",
      "andmeadoweands admendacednew False\n",
      "feetunerfor secturensor False\n",
      "o onloc False\n",
      "translt transit False\n",
      "cointry country False\n",
      "aseet affect False\n",
      "vvater whoter False\n",
      "ilhichneither ilibernechiel False\n",
      "canals canass False\n",
      "distingished distinghished False\n"
     ]
    },
    {
     "output_type": "execute_result",
     "data": {
      "text/plain": [
       "'t er loods and the railwaysthe flbods that dwing the lut fortnight have been so unprecedented particularly in the eastern and northeastem districts have put toaseverer test than usual the strength and solidity of the ralways the ordinary roads iave been rend ered imasmbleon the branch lfnes of the eastern counties from yto peter borough and beyond thoe arable andmeadoweands are two and thro feetunerfor six and seven miles around o that viewed from a train in translt the cointry presents nothing but a vast aseet of vvater from ilhichneither the canals nor the rivers can be distingished'"
      ]
     },
     "metadata": {},
     "execution_count": 4
    }
   ],
   "metadata": {}
  },
  {
   "cell_type": "code",
   "execution_count": 5,
   "source": [
    "# NOTE: we do not need to preprocess the text before calling model.process_text().\n",
    "# The process_text() method itself has a call to preprocess() inside it.\n",
    "\n",
    "infer_text_no_preprocess = model.process_text(sample_text)\n",
    "\n",
    "assert (infer_text_no_preprocess == infer_text)"
   ],
   "outputs": [
    {
     "output_type": "stream",
     "name": "stdout",
     "text": [
      "t teal False\n",
      "er eare False\n",
      "loods boods False\n",
      "railwaysthe railwawarvie False\n",
      "flbods sthoof False\n",
      "dwing dwing False\n",
      "lut lant False\n",
      "northeastem northeaster False\n",
      "toaseverer twesewerer False\n",
      "ralways ralwwfs False\n",
      "iave have False\n",
      "imasmbleon immashifine False\n",
      "lfnes isness False\n",
      "yto yeto False\n",
      "andmeadoweands admendacednew False\n",
      "feetunerfor secturensor False\n",
      "o onloc False\n",
      "translt transit False\n",
      "cointry country False\n",
      "aseet affect False\n",
      "vvater whoter False\n",
      "ilhichneither ilibernechiel False\n",
      "canals canass False\n",
      "distingished distinghished False\n"
     ]
    }
   ],
   "metadata": {}
  },
  {
   "cell_type": "markdown",
   "source": [
    "By default, process_text() is evoked with the safe_mode parameter set to true. In safe mode, the program does not replace the original word if the model's output is not itself a recognizable English word. We can see the model's output for all words by setting the safe_mode parameter to False."
   ],
   "metadata": {}
  },
  {
   "cell_type": "code",
   "execution_count": 6,
   "source": [
    "infer_text_no_safe_mode = model.process_text(sample_text, safe_mode=False)\n",
    "\n",
    "infer_text_no_safe_mode"
   ],
   "outputs": [
    {
     "output_type": "stream",
     "name": "stdout",
     "text": [
      "t teal True\n",
      "er eare False\n",
      "loods boods False\n",
      "railwaysthe railwawarvie False\n",
      "flbods sthoof False\n",
      "dwing dwing False\n",
      "lut lant False\n",
      "northeastem northeaster False\n",
      "toaseverer twesewerer False\n",
      "ralways ralwwfs False\n",
      "iave have True\n",
      "imasmbleon immashifine False\n",
      "lfnes isness False\n",
      "yto yeto False\n",
      "andmeadoweands admendacednew False\n",
      "feetunerfor secturensor False\n",
      "o onloc False\n",
      "translt transit True\n",
      "cointry country True\n",
      "aseet affect True\n",
      "vvater whoter False\n",
      "ilhichneither ilibernechiel False\n",
      "canals canass False\n",
      "distingished distinghished False\n"
     ]
    },
    {
     "output_type": "execute_result",
     "data": {
      "text/plain": [
       "'teal er loods and the railwaysthe flbods that dwing the lut fortnight have been so unprecedented particularly in the eastern and northeastem districts have put toaseverer test than usual the strength and solidity of the ralways the ordinary roads have been rend ered imasmbleon the branch lfnes of the eastern counties from yto peter borough and beyond thoe arable andmeadoweands are two and thro feetunerfor six and seven miles around o that viewed from a train in transit the country presents nothing but a vast affect of vvater from ilhichneither the canals nor the rivers can be distingished'"
      ]
     },
     "metadata": {},
     "execution_count": 6
    }
   ],
   "metadata": {}
  },
  {
   "cell_type": "markdown",
   "source": [
    "Let's compare the two texts to see what corrections were accepted."
   ],
   "metadata": {}
  },
  {
   "cell_type": "code",
   "execution_count": 7,
   "source": [
    "for orig_word, rej_suggestion in zip(infer_text.split(), infer_text_no_safe_mode.split()):\n",
    "    if orig_word == rej_suggestion: continue\n",
    "    print(f\"{orig_word} ---> {rej_suggestion}\")"
   ],
   "outputs": [
    {
     "output_type": "stream",
     "name": "stdout",
     "text": [
      "t ---> teal\n",
      "iave ---> have\n",
      "translt ---> transit\n",
      "cointry ---> country\n",
      "aseet ---> affect\n"
     ]
    }
   ],
   "metadata": {}
  },
  {
   "cell_type": "code",
   "execution_count": 8,
   "source": [
    "'transit' in model.english_lexicon"
   ],
   "outputs": [
    {
     "output_type": "execute_result",
     "data": {
      "text/plain": [
       "True"
      ]
     },
     "metadata": {},
     "execution_count": 8
    }
   ],
   "metadata": {}
  }
 ],
 "metadata": {
  "orig_nbformat": 4,
  "language_info": {
   "name": "python",
   "version": "3.8.1",
   "mimetype": "text/x-python",
   "codemirror_mode": {
    "name": "ipython",
    "version": 3
   },
   "pygments_lexer": "ipython3",
   "nbconvert_exporter": "python",
   "file_extension": ".py"
  },
  "kernelspec": {
   "name": "python3",
   "display_name": "Python 3.8.1 64-bit ('venv': venv)"
  },
  "interpreter": {
   "hash": "0df766557e9e52c50ed33f63d0ce7ef29166bb38e4b1cc05d489187aa19089d7"
  }
 },
 "nbformat": 4,
 "nbformat_minor": 2
}