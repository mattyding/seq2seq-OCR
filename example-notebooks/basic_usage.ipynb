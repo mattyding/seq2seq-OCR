{
 "cells": [
  {
   "cell_type": "markdown",
   "source": [
    "## Basic Usage\n",
    "\n",
    "This file demonstrates how to use the seq2seq model to process noisy text.\n",
    "\n",
    "The example used in this notebook is a truncated article from the 11/1/1848 issue of the London Times. Let's first print it out to see what we're working with."
   ],
   "metadata": {}
  },
  {
   "cell_type": "code",
   "execution_count": 1,
   "source": [
    "with open(\"sample-files/floods.txt\", 'r') as f:\n",
    "    sample_text = f.read()\n",
    "\n",
    "sample_text"
   ],
   "outputs": [
    {
     "output_type": "execute_result",
     "data": {
      "text/plain": [
       "\"T Er LooDs AND THE RAILwAYS--The flbods that dwing the lut fortnight have been so unprecedented,particularly in the eastern and north-eastem districts, have' put toaseverer test than usual the strength and solidity of the ralways The ordinary, roads Iave been rendered im- asmbleOn the branch lfnes of the Eastern Counties, from yto Peterboroughandbeyond, tho e arable andmeadoweands are two and thro3 feet- un4erfor six and seven miles around, o that viewed from a train in translt, the cointry presents nothing but a vast aseet of vvater, from ilhich- neither the canals nor the rivers can be distingished \""
      ]
     },
     "metadata": {},
     "execution_count": 1
    }
   ],
   "metadata": {}
  },
  {
   "cell_type": "markdown",
   "source": [
    "This text is very noisy and it's difficult to piece together exactly what the article's saying. We can begin by importing the model from the seq2seqocr.py file and cleaning up our text with the 'preprocess' method"
   ],
   "metadata": {}
  },
  {
   "cell_type": "code",
   "execution_count": 2,
   "source": [
    "# these two lines help with locating the file from this notebook\n",
    "import sys\n",
    "sys.path.append('../')\n",
    "\n",
    "from seq2seqocr import Seq2SeqOCR\n",
    "\n",
    "# initalize the model. By default, it assumes the model is saved at MODEL_PATH in settings.py\n",
    "model = Seq2SeqOCR()"
   ],
   "outputs": [
    {
     "output_type": "stream",
     "name": "stdout",
     "text": [
      "WARNING:tensorflow:SavedModel saved prior to TF 2.5 detected when loading Keras model. Please ensure that you are saving the model with model.save() or tf.keras.models.save_model(), *NOT* tf.saved_model.save(). To confirm, there should be a file named \"keras_metadata.pb\" in the SavedModel directory.\n"
     ]
    },
    {
     "output_type": "stream",
     "name": "stderr",
     "text": [
      "2021-09-05 20:22:49.195792: I tensorflow/core/platform/cpu_feature_guard.cc:142] This TensorFlow binary is optimized with oneAPI Deep Neural Network Library (oneDNN) to use the following CPU instructions in performance-critical operations:  AVX2 FMA\n",
      "To enable them in other operations, rebuild TensorFlow with the appropriate compiler flags.\n"
     ]
    }
   ],
   "metadata": {}
  },
  {
   "cell_type": "code",
   "execution_count": 3,
   "source": [
    "preprocessed = model.preprocess(sample_text)\n",
    "\n",
    "preprocessed"
   ],
   "outputs": [
    {
     "output_type": "execute_result",
     "data": {
      "text/plain": [
       "'t er [CLS]loods and the [CLS]railwaysthe [CLS]flbods that [CLS]dwing the lut fortnight have been so unprecedented particularly in the eastern and [CLS]northeastem districts have put [CLS]toaseverer test than usual the strength and solidity of the [CLS]ralways the ordinary roads [CLS]iave been rend ered [CLS]imasmbleon the branch [CLS]lfnes of the eastern counties from yto peter borough and beyond thoe arable [CLS]andmeadoweands are two and thro [CLS]feetunerfor six and seven miles around o that viewed from a train in [CLS]translt the [CLS]cointry presents nothing but a vast [CLS]aseet of [CLS]vvater from [CLS]ilhichneither the [CLS]canals nor the rivers can be [CLS]distingished'"
      ]
     },
     "metadata": {},
     "execution_count": 3
    }
   ],
   "metadata": {}
  },
  {
   "cell_type": "markdown",
   "source": [
    "For each word in our text, 'preprocess' goes through several rounds of checks to clean up spacing issues. If it cannot recognize the word at the end of these checks, it tags the word with a classification token ('CLS'). \n",
    "\n",
    "The intent of this preprocessing stage is to clean up the text for our model, as well as correct any obvious issues. The classification tokens designate which words we should run the model on. We can do that with the 'process_text' method."
   ],
   "metadata": {}
  },
  {
   "cell_type": "code",
   "execution_count": 4,
   "source": [
    "infer_text = model.process_text(preprocessed)\n",
    "\n",
    "infer_text"
   ],
   "outputs": [
    {
     "output_type": "stream",
     "name": "stderr",
     "text": [
      "2021-09-05 20:22:52.574755: I tensorflow/compiler/mlir/mlir_graph_optimization_pass.cc:176] None of the MLIR Optimization Passes are enabled (registered 2)\n"
     ]
    },
    {
     "output_type": "execute_result",
     "data": {
      "text/plain": [
       "'t er loods and the railwaysthe flbods that dwing the lut fortnight have been so unprecedented particularly in the eastern and northeastem districts have put toaseverer test than usual the strength and solidity of the ralways the ordinary roads have been rend ered imasmbleon the branch lfnes of the eastern counties from yto peter borough and beyond thoe arable andmeadoweands are two and thro feetunerfor six and seven miles around o that viewed from a train in transit the country presents nothing but a vast affect of vvater from ilhichneither the canals nor the rivers can be distingished'"
      ]
     },
     "metadata": {},
     "execution_count": 4
    }
   ],
   "metadata": {}
  },
  {
   "cell_type": "code",
   "execution_count": 5,
   "source": [
    "# NOTE: we do not need to preprocess the text before calling model.process_text().\n",
    "# The process_text() method itself has a call to preprocess() inside it.\n",
    "\n",
    "infer_text_no_preprocess = model.process_text(sample_text)\n",
    "\n",
    "assert (infer_text_no_preprocess == infer_text)"
   ],
   "outputs": [],
   "metadata": {}
  },
  {
   "cell_type": "markdown",
   "source": [
    "By default, process_text() is evoked with the safe_mode parameter set to true. In safe mode, the program does not replace the original word if the model's output is not itself a recognizable English word. We can see the model's output for all words by setting the safe_mode parameter to False."
   ],
   "metadata": {}
  },
  {
   "cell_type": "code",
   "execution_count": 6,
   "source": [
    "infer_text_no_safe_mode = model.process_text(sample_text, safe_mode=False)\n",
    "\n",
    "infer_text_no_safe_mode"
   ],
   "outputs": [
    {
     "output_type": "execute_result",
     "data": {
      "text/plain": [
       "'t er boods and the railwawarvie sthoof that dwing the lut fortnight have been so unprecedented particularly in the eastern and northeaster districts have put twesewerer test than usual the strength and solidity of the ralwwfs the ordinary roads have been rend ered immashifine the branch isness of the eastern counties from yto peter borough and beyond thoe arable admendacednew are two and thro secturensor six and seven miles around o that viewed from a train in transit the country presents nothing but a vast affect of whoter from ilibernechiel the canass nor the rivers can be distinghished'"
      ]
     },
     "metadata": {},
     "execution_count": 6
    }
   ],
   "metadata": {}
  },
  {
   "cell_type": "markdown",
   "source": [
    "Let's compare the two texts to see what corrections were rejected in safe mode."
   ],
   "metadata": {}
  },
  {
   "cell_type": "code",
   "execution_count": 7,
   "source": [
    "for orig_word, rej_suggestion in zip(infer_text.split(), infer_text_no_safe_mode.split()):\n",
    "    if orig_word == rej_suggestion: continue\n",
    "    print(f\"{orig_word} ---> {rej_suggestion}\")"
   ],
   "outputs": [
    {
     "output_type": "stream",
     "name": "stdout",
     "text": [
      "loods ---> boods\n",
      "railwaysthe ---> railwawarvie\n",
      "flbods ---> sthoof\n",
      "northeastem ---> northeaster\n",
      "toaseverer ---> twesewerer\n",
      "ralways ---> ralwwfs\n",
      "imasmbleon ---> immashifine\n",
      "lfnes ---> isness\n",
      "andmeadoweands ---> admendacednew\n",
      "feetunerfor ---> secturensor\n",
      "vvater ---> whoter\n",
      "ilhichneither ---> ilibernechiel\n",
      "canals ---> canass\n",
      "distingished ---> distinghished\n"
     ]
    }
   ],
   "metadata": {}
  },
  {
   "cell_type": "markdown",
   "source": [
    "Some of these inferences are a bit off of the mark, so it's good to see that they were rejected. Let's see what suggestions our safe_mode prediction accepted."
   ],
   "metadata": {}
  },
  {
   "cell_type": "code",
   "execution_count": 8,
   "source": [
    "from seq2seqocr import CLASSIFICATION_TKN\n",
    "\n",
    "for pped_word, replacement in zip(preprocessed.split(), infer_text.split()):\n",
    "    if pped_word.startswith(CLASSIFICATION_TKN):\n",
    "        word_without_tag = pped_word.lstrip(CLASSIFICATION_TKN)\n",
    "        if (word_without_tag != replacement):\n",
    "            print(f\"{word_without_tag} ---> {replacement}\")"
   ],
   "outputs": [
    {
     "output_type": "stream",
     "name": "stdout",
     "text": [
      "iave ---> have\n",
      "translt ---> transit\n",
      "cointry ---> country\n",
      "aseet ---> affect\n"
     ]
    }
   ],
   "metadata": {}
  },
  {
   "cell_type": "markdown",
   "source": [
    "Some of these suggestions are still ambiguious, but clearly, the changes for 'translt'->'transit' and 'cointry'->'country' are useful corrections that might otherwise be difficult to spot. Even the 'iave'->'have' correction seems valid, and upon further review it can be seen that 'have' in fact the correct word:\n",
    "\n",
    "**Original:** \"The ordinary, roads ***Iave*** been rendered im- asmbleOn\"  \n",
    "**Real:** \"The ordinary roads ***have*** been rendered impassable.\"\n",
    "<br/>\n",
    "\n",
    "We can compare the output of our model to that of PyEnchant's Spellcheck tool."
   ],
   "metadata": {}
  },
  {
   "cell_type": "code",
   "execution_count": 9,
   "source": [
    "import enchant\n",
    "\n",
    "d_uk = enchant.Dict(\"en_UK\")\n",
    "\n",
    "for bad_word in ['iave', 'translt', 'cointry']:\n",
    "    print(f\"{bad_word} ---> {d_uk.suggest(bad_word)[:5]}\")  # top 5 suggestions"
   ],
   "outputs": [
    {
     "output_type": "stream",
     "name": "stdout",
     "text": [
      "iave ---> ['Ave', 'ave', \"I've\", 'eave', 'Iva']\n",
      "translt ---> ['transl', 'translate', 'transit', 'translator', 'transact']\n",
      "cointry ---> ['country', 'contra', 'Cointreau', 'coin try', 'coin-try']\n"
     ]
    }
   ],
   "metadata": {}
  },
  {
   "cell_type": "markdown",
   "source": [
    "The 'iave' suggestions are nowhere close to correct, as the spellchecker has no way to realize that the lowercase 'h' has been misread in this context.  \n",
    "\n",
    "The 'l' in 'translt' throws the spellchecker off, leading it to suggest words stemming from 'translate' as the most-likely corrections. It does suggest 'transit' in there, but it is only the 3rd most-likely correction.  \n",
    "\n",
    "Finally, the 'cointry'->'country' correction is correctly performed by the spellchecking tool.\n",
    "<br/>\n",
    "\n",
    "So it's clear to see that our model outperforms other correction tools in this context. If you want, you can combine the predictions of the seq2seq model with other tools such as PyEnchant's spellchecker. If you review the rejection corrections, you'll notice that a few of them could proabably be fixed by a spellchecking tool (e.g., 'distingished'->'distinguished'). An example combining the seq2seq model and PyEnchant is demonstrated below.\n"
   ],
   "metadata": {}
  },
  {
   "cell_type": "code",
   "execution_count": 10,
   "source": [
    "# example combination of seq2seq and PyEnchant spellchecker\n",
    "\n",
    "corrected_text = []\n",
    "\n",
    "# this is the same code as before, except now we run the spellchecker over unchanged words\n",
    "for pped_word, replacement in zip(preprocessed.split(), infer_text.split()):\n",
    "    if pped_word.startswith(CLASSIFICATION_TKN):\n",
    "        word_without_tag = pped_word.lstrip(CLASSIFICATION_TKN)\n",
    "        if (word_without_tag == replacement):\n",
    "            spellcheck_word = d_uk.suggest(word_without_tag)[0]  # takes the first result\n",
    "            print(f\"{word_without_tag} ---> {spellcheck_word}\")\n",
    "            corrected_text.append(spellcheck_word)\n",
    "        else:\n",
    "            corrected_text.append(replacement)\n",
    "    else:\n",
    "        corrected_text.append(pped_word)\n",
    "\n",
    "\" \".join(corrected_text)\n"
   ],
   "outputs": [
    {
     "output_type": "stream",
     "name": "stdout",
     "text": [
      "loods ---> loos\n",
      "railwaysthe ---> railways the\n",
      "flbods ---> floods\n",
      "dwing ---> swing\n",
      "northeastem ---> northeaster\n",
      "toaseverer ---> severer\n",
      "ralways ---> railways\n",
      "imasmbleon ---> assembling\n",
      "lfnes ---> lanes\n",
      "andmeadoweands ---> understands\n",
      "feetunerfor ---> fortune\n",
      "vvater ---> vaster\n",
      "ilhichneither ---> unhitching\n",
      "canals ---> canals\n",
      "distingished ---> distinguished\n"
     ]
    },
    {
     "output_type": "execute_result",
     "data": {
      "text/plain": [
       "'t er loos and the railways the floods that swing the lut fortnight have been so unprecedented particularly in the eastern and northeaster districts have put severer test than usual the strength and solidity of the railways the ordinary roads have been rend ered assembling the branch lanes of the eastern counties from yto peter borough and beyond thoe arable understands are two and thro fortune six and seven miles around o that viewed from a train in transit the country presents nothing but a vast affect of vaster from unhitching the canals nor the rivers can be distinguished'"
      ]
     },
     "metadata": {},
     "execution_count": 10
    }
   ],
   "metadata": {}
  },
  {
   "cell_type": "markdown",
   "source": [
    "This approach ends up correcting several mistakes that squeezed by our model. Notably, it seperates 'railwaysthe' and correctly identifies words like 'flbods' and 'ralways' as misspellings. However, note that the spellchecker sometimes fails when it comes to longer and noisier words ('andmeadoweands'->'understands'), and it is difficult to determine when exactly the model fails. A suggestion is that one could implement some sort of check by calculating the Levensthein distance between the two words.  \n",
    "\n",
    "I ultimately leave it up to the user to decide whether or not to include other spellchecking programs along with the seq2seq model in their correction. The seq2seq model is a useful tool that can identify common mistakes and hopefully offer correct suggestions.  \n",
    "\n",
    "I hope that these notebook examples have been useful in demonstrating how to use the seq2seq model by itself and in combination with other tools. To see more on how to customize the model to fit your needs, see [custom_usage](custom_usage.ipynb)."
   ],
   "metadata": {}
  }
 ],
 "metadata": {
  "orig_nbformat": 4,
  "language_info": {
   "name": "python",
   "version": "3.8.1",
   "mimetype": "text/x-python",
   "codemirror_mode": {
    "name": "ipython",
    "version": 3
   },
   "pygments_lexer": "ipython3",
   "nbconvert_exporter": "python",
   "file_extension": ".py"
  },
  "kernelspec": {
   "name": "python3",
   "display_name": "Python 3.8.1 64-bit ('venv': venv)"
  },
  "interpreter": {
   "hash": "0df766557e9e52c50ed33f63d0ce7ef29166bb38e4b1cc05d489187aa19089d7"
  }
 },
 "nbformat": 4,
 "nbformat_minor": 2
}