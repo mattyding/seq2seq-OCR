{
 "cells": [
  {
   "cell_type": "code",
   "execution_count": null,
   "source": [
    "\"\"\"\n",
    "TODO: write this\n",
    "\"\"\""
   ],
   "outputs": [],
   "metadata": {}
  }
 ],
 "metadata": {
  "orig_nbformat": 4,
  "language_info": {
   "name": "python",
   "version": "3.8.1"
  },
  "kernelspec": {
   "name": "python3",
   "display_name": "Python 3.8.1 64-bit ('venv': venv)"
  },
  "interpreter": {
   "hash": "0df766557e9e52c50ed33f63d0ce7ef29166bb38e4b1cc05d489187aa19089d7"
  }
 },
 "nbformat": 4,
 "nbformat_minor": 2
}